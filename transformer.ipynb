{
  "nbformat": 4,
  "nbformat_minor": 0,
  "metadata": {
    "colab": {
      "provenance": [],
      "authorship_tag": "ABX9TyOymLYTpWM1L2KGhRW0psIr",
      "include_colab_link": true
    },
    "kernelspec": {
      "name": "python3",
      "display_name": "Python 3"
    },
    "language_info": {
      "name": "python"
    }
  },
  "cells": [
    {
      "cell_type": "markdown",
      "metadata": {
        "id": "view-in-github",
        "colab_type": "text"
      },
      "source": [
        "<a href=\"https://colab.research.google.com/github/revanth1288/python/blob/main/transformer.ipynb\" target=\"_parent\"><img src=\"https://colab.research.google.com/assets/colab-badge.svg\" alt=\"Open In Colab\"/></a>"
      ]
    },
    {
      "cell_type": "code",
      "execution_count": 1,
      "metadata": {
        "id": "JbYLCUHfe73t"
      },
      "outputs": [],
      "source": [
        "import math\n",
        "def oc(vo,io,wo):\n",
        " npf=wo/(vo*io)\n",
        " iw=io*npf\n",
        " imv=io*math.sqrt(1-npf**2)\n",
        " ro=vo/iw\n",
        " xo=vo/imv\n",
        " return ro,xo\n"
      ]
    },
    {
      "cell_type": "code",
      "source": [
        "def sc(vsc,isc,wsc):\n",
        "  import math\n",
        "  rsc=wsc/(isc**2)\n",
        "  zsc=vsc/isc\n",
        "  xsc=math.sqrt(zsc**2-rsc**2)\n",
        "  return rsc,xsc"
      ],
      "metadata": {
        "id": "39i7KAFkfIWn"
      },
      "execution_count": 2,
      "outputs": []
    },
    {
      "cell_type": "code",
      "source": [
        "def eff(r,wo,wsc,x,pf):\n",
        " effi=(x*r*pf*100)/(x*r*pf+wo+(x**2)*wsc)\n",
        " xcu=wsc*(x**2)\n",
        " return effi,xcu\n"
      ],
      "metadata": {
        "id": "I75exdtVfNzY"
      },
      "execution_count": 3,
      "outputs": []
    }
  ]
}