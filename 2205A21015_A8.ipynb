{
  "nbformat": 4,
  "nbformat_minor": 0,
  "metadata": {
    "colab": {
      "provenance": [],
      "authorship_tag": "ABX9TyOw+WLBRIqZFXUWKIMg/209",
      "include_colab_link": true
    },
    "kernelspec": {
      "name": "python3",
      "display_name": "Python 3"
    },
    "language_info": {
      "name": "python"
    }
  },
  "cells": [
    {
      "cell_type": "markdown",
      "metadata": {
        "id": "view-in-github",
        "colab_type": "text"
      },
      "source": [
        "<a href=\"https://colab.research.google.com/github/revanth1288/python/blob/main/2205A21015_A8.ipynb\" target=\"_parent\"><img src=\"https://colab.research.google.com/assets/colab-badge.svg\" alt=\"Open In Colab\"/></a>"
      ]
    },
    {
      "cell_type": "code",
      "source": [
        "Qualification=['venkat','B.Tech',2006,'Μ.Ε.',2011,'Ph.D, 2018']\n",
        "Experience=['SSCE', 2007, 'infosys', '2011', 'ΑΙΤΑΜ', '2013', 'SREC', '2018']\n",
        "CA=Qualification+Experience\n",
        "print(\"Qualification=\", Qualification)\n",
        "print(\"Experience=\", Experience)\n",
        "print(\"CA=\", CA)\n"
      ],
      "metadata": {
        "colab": {
          "base_uri": "https://localhost:8080/"
        },
        "id": "jsf7u9x3oz-B",
        "outputId": "95361204-2f9a-4aa5-8b01-0efe283122b5"
      },
      "execution_count": null,
      "outputs": [
        {
          "output_type": "stream",
          "name": "stdout",
          "text": [
            "Qualification= ['venkat', 'B.Tech', 2006, 'Μ.Ε.', 2011, 'Ph.D, 2018']\n",
            "Experience= ['SSCE', 2007, 'infosys', '2011', 'ΑΙΤΑΜ', '2013', 'SREC', '2018']\n",
            "CA= ['venkat', 'B.Tech', 2006, 'Μ.Ε.', 2011, 'Ph.D, 2018', 'SSCE', 2007, 'infosys', '2011', 'ΑΙΤΑΜ', '2013', 'SREC', '2018']\n"
          ]
        }
      ]
    },
    {
      "cell_type": "code",
      "source": [
        "Qualification=['venkat','B.Tech',2006,'Μ.Ε.',2011,'Ph.D', 2018]\n",
        "print(Qualification)\n",
        "print(Qualification[0])\n",
        "print(Qualification[1:])\n",
        "print(Qualification[1:5])\n",
        "print(Qualification*2)\n",
        "print(Qualification[::-1])"
      ],
      "metadata": {
        "colab": {
          "base_uri": "https://localhost:8080/"
        },
        "id": "koQfBlq-o4_x",
        "outputId": "b3a50e84-bc7e-447a-e748-454c8800c731"
      },
      "execution_count": null,
      "outputs": [
        {
          "output_type": "stream",
          "name": "stdout",
          "text": [
            "['venkat', 'B.Tech', 2006, 'Μ.Ε.', 2011, 'Ph.D', 2018]\n",
            "venkat\n",
            "['B.Tech', 2006, 'Μ.Ε.', 2011, 'Ph.D', 2018]\n",
            "['B.Tech', 2006, 'Μ.Ε.', 2011]\n",
            "['venkat', 'B.Tech', 2006, 'Μ.Ε.', 2011, 'Ph.D', 2018, 'venkat', 'B.Tech', 2006, 'Μ.Ε.', 2011, 'Ph.D', 2018]\n",
            "[2018, 'Ph.D', 2011, 'Μ.Ε.', 2006, 'B.Tech', 'venkat']\n"
          ]
        }
      ]
    },
    {
      "cell_type": "code",
      "source": [
        "list=['venkat', '1985']\n",
        "print('Venkat birth year' ,list[1])\n",
        "list[0]= 'dev'\n",
        "list[1]=2017\n",
        "print('dev birth year' ,list[1])"
      ],
      "metadata": {
        "colab": {
          "base_uri": "https://localhost:8080/"
        },
        "id": "6KPQFIu9oWJ5",
        "outputId": "20dae82d-6603-4112-bf2e-c2eca0462d18"
      },
      "execution_count": null,
      "outputs": [
        {
          "output_type": "stream",
          "name": "stdout",
          "text": [
            "Venkat birth year 1985\n",
            "dev birth year 2017\n"
          ]
        }
      ]
    },
    {
      "cell_type": "code",
      "source": [
        "list=['venkat','1985']\n",
        "print(list)\n",
        "del list[1]\n",
        "print(list)"
      ],
      "metadata": {
        "colab": {
          "base_uri": "https://localhost:8080/"
        },
        "id": "bIXzoiSPr9wQ",
        "outputId": "f86eb3e5-a9ee-4d93-b630-3e3767f96420"
      },
      "execution_count": 24,
      "outputs": [
        {
          "output_type": "stream",
          "name": "stdout",
          "text": [
            "['venkat', '1985']\n",
            "['venkat']\n"
          ]
        }
      ]
    },
    {
      "cell_type": "code",
      "source": [
        "Name= [ 'Ramana', 'Thanmai', 'Dev']\n",
        "DOB= [1985,2014,2017]\n",
        "print( 'Number of peoples' , len (Name) )\n",
        "print('=======')\n",
        "Details=Name+DOB # Concatination\n",
        "print( 'Biodata' ,Details)\n",
        "print('=======')\n",
        "Repetition=Name*2\n",
        "print( 'Repetition' ,Repetition)\n",
        "print('=======')\n",
        "for x in Name:\n",
        "  print (x)\n",
        "print('=======')\n"
      ],
      "metadata": {
        "colab": {
          "base_uri": "https://localhost:8080/"
        },
        "id": "QKr2dEauoS2J",
        "outputId": "eee40c86-bca2-48b3-9060-423f0e7c1eb2"
      },
      "execution_count": null,
      "outputs": [
        {
          "output_type": "stream",
          "name": "stdout",
          "text": [
            "Number of peoples 3\n",
            "=======\n",
            "Biodata ['Ramana', 'Thanmai', 'Dev', 1985, 2014, 2017]\n",
            "=======\n",
            "Repetition ['Ramana', 'Thanmai', 'Dev', 'Ramana', 'Thanmai', 'Dev']\n",
            "=======\n",
            "Ramana\n",
            "Thanmai\n",
            "Dev\n",
            "=======\n"
          ]
        }
      ]
    },
    {
      "cell_type": "code",
      "source": [
        "Name=[ 'Ramana' , 'Thanmai', 'Dev']\n",
        "DOB= [1985, 2014,2017]\n",
        "print( 'Name with maximum charecters' ,max(Name) )\n",
        "print('Younger person DOB' , max(DOB) )\n",
        "print( 'Name with minimum charecters' , min (Name) )\n",
        "print('Older person DOB' ,min (DOB))\n"
      ],
      "metadata": {
        "id": "Bw0g6txjnnbh",
        "colab": {
          "base_uri": "https://localhost:8080/"
        },
        "outputId": "4f2ad36f-e987-41d2-d90d-77eefcf84e92"
      },
      "execution_count": 22,
      "outputs": [
        {
          "output_type": "stream",
          "name": "stdout",
          "text": [
            "Name with maximum charecters Thanmai\n",
            "Younger person DOB 2017\n",
            "Name with minimum charecters Dev\n",
            "Older person DOB 1985\n"
          ]
        }
      ]
    },
    {
      "cell_type": "code",
      "execution_count": null,
      "metadata": {
        "colab": {
          "base_uri": "https://localhost:8080/"
        },
        "id": "LX2CSO6xdqWe",
        "outputId": "70ce727c-8cc3-43f7-d647-e233cda8f7fd"
      },
      "outputs": [
        {
          "output_type": "stream",
          "name": "stdout",
          "text": [
            "[' ramana', 1985, 'Thanmai', 2014]\n",
            "['v', 'e', 'n', 'k', 'a', 't']\n"
          ]
        }
      ],
      "source": [
        "atuple=(' ramana', 1985, 'Thanmai',2014)\n",
        "str='venkat'\n",
        "list1=list(atuple)\n",
        "list2=list(str)\n",
        "print(list1)\n",
        "print(list2)"
      ]
    },
    {
      "cell_type": "code",
      "source": [
        "Students=[ 'ram' , 'venkat']\n",
        "print(Students)\n",
        "Students.append ('Dev')\n",
        "print(Students)\n"
      ],
      "metadata": {
        "colab": {
          "base_uri": "https://localhost:8080/"
        },
        "id": "wllsTbz8ioRp",
        "outputId": "855d2320-7bf4-4cb2-91e8-329f5c4c16d1"
      },
      "execution_count": null,
      "outputs": [
        {
          "output_type": "stream",
          "name": "stdout",
          "text": [
            "['ram', 'venkat']\n",
            "['ram', 'venkat', 'Dev']\n"
          ]
        }
      ]
    },
    {
      "cell_type": "code",
      "source": [
        "Grade=['A', 'A', 'B' ,'C','A']\n",
        "print( 'How many peoples got A grade' ,Grade. count('A' ))"
      ],
      "metadata": {
        "colab": {
          "base_uri": "https://localhost:8080/"
        },
        "id": "6TwdRr7biwgA",
        "outputId": "ac6e68b7-4aa6-4e38-a0cd-86292130fa4a"
      },
      "execution_count": null,
      "outputs": [
        {
          "output_type": "stream",
          "name": "stdout",
          "text": [
            "How many peoples got A grade 3\n"
          ]
        }
      ]
    },
    {
      "cell_type": "code",
      "source": [
        "Family=[ 'Venkat', 'Swetha']\n",
        "print( 'Family members' ,Family)\n",
        "atuple=('Dev' , 'Thanmai')\n",
        "Family. extend(atuple)\n",
        "print( 'Family members' ,Family)\n"
      ],
      "metadata": {
        "colab": {
          "base_uri": "https://localhost:8080/"
        },
        "id": "MJC8YjpajZRR",
        "outputId": "76331ee0-9587-49f4-a86b-a6062fa40e07"
      },
      "execution_count": null,
      "outputs": [
        {
          "output_type": "stream",
          "name": "stdout",
          "text": [
            "Family members ['Venkat', 'Swetha']\n",
            "Family members ['Venkat', 'Swetha', 'Dev', 'Thanmai']\n"
          ]
        }
      ]
    },
    {
      "cell_type": "code",
      "source": [
        "Grade=['A','A', 'B', 'C', 'A', 'B']\n",
        "print( 'lowest index for grade B' ,Grade.index('B'))"
      ],
      "metadata": {
        "colab": {
          "base_uri": "https://localhost:8080/"
        },
        "id": "qO0AtC8wjs7i",
        "outputId": "db5dfdea-6174-446c-f53d-f102907551a7"
      },
      "execution_count": null,
      "outputs": [
        {
          "output_type": "stream",
          "name": "stdout",
          "text": [
            "lowest index for grade B 2\n"
          ]
        }
      ]
    },
    {
      "cell_type": "code",
      "source": [
        "Family=['Ramana', 'Swetha', 'Thanmai', 'Dev']\n",
        "print( 'Family members' ,Family)\n",
        "Family. remove( 'Ramana')\n",
        "print ( 'Family members' , Family)"
      ],
      "metadata": {
        "colab": {
          "base_uri": "https://localhost:8080/"
        },
        "id": "r0RGTydHlnhq",
        "outputId": "cbdd3eb8-ebe4-42c9-96b7-0bbd170085aa"
      },
      "execution_count": null,
      "outputs": [
        {
          "output_type": "stream",
          "name": "stdout",
          "text": [
            "Family members ['Ramana', 'Swetha', 'Thanmai', 'Dev']\n",
            "Family members ['Swetha', 'Thanmai', 'Dev']\n"
          ]
        }
      ]
    },
    {
      "cell_type": "code",
      "source": [
        "Family=['Ramana', 'Swetha', 'Thanmai', 'Dev']\n",
        "print( 'Family members' ,Family)\n",
        "Family. reverse()\n",
        "print( 'Family members' , Family)"
      ],
      "metadata": {
        "colab": {
          "base_uri": "https://localhost:8080/"
        },
        "id": "oIFPPs_XlyTA",
        "outputId": "1de5410e-a685-46ec-b2a4-29229cb6ca75"
      },
      "execution_count": null,
      "outputs": [
        {
          "output_type": "stream",
          "name": "stdout",
          "text": [
            "Family members ['Ramana', 'Swetha', 'Thanmai', 'Dev']\n",
            "Family members ['Dev', 'Thanmai', 'Swetha', 'Ramana']\n"
          ]
        }
      ]
    },
    {
      "cell_type": "code",
      "source": [
        "Name=[ 'Ramana', 'Thanmai', 'Dev']\n",
        "print ('Family members' , Name )\n",
        "Name. insert(1, 'Swetha')\n",
        "print ( 'Family members' , Name )\n"
      ],
      "metadata": {
        "colab": {
          "base_uri": "https://localhost:8080/"
        },
        "id": "WP3PIKSCj9uZ",
        "outputId": "74183c1c-0e88-4356-8116-8d58d2fbc76b"
      },
      "execution_count": null,
      "outputs": [
        {
          "output_type": "stream",
          "name": "stdout",
          "text": [
            "Family members ['Ramana', 'Thanmai', 'Dev']\n",
            "Family members ['Ramana', 'Swetha', 'Thanmai', 'Dev']\n"
          ]
        }
      ]
    },
    {
      "cell_type": "code",
      "source": [
        "Family=['Ramana', 'Swetha' , 'Thanmai', 'Dev']\n",
        "print( 'Family members' , Family)\n",
        "Family.pop()\n",
        "print( 'Family members' , Family)\n",
        "Family.pop (2)\n",
        "print( 'Family members' , Family)\n",
        "\n"
      ],
      "metadata": {
        "colab": {
          "base_uri": "https://localhost:8080/"
        },
        "id": "Sk4q0VBnkSIJ",
        "outputId": "12cbb6cc-32ee-4e85-f4ba-c60249c4a733"
      },
      "execution_count": null,
      "outputs": [
        {
          "output_type": "stream",
          "name": "stdout",
          "text": [
            "Family members ['Ramana', 'Swetha', 'Thanmai', 'Dev']\n",
            "Family members ['Ramana', 'Swetha', 'Thanmai']\n",
            "Family members ['Ramana', 'Swetha']\n"
          ]
        }
      ]
    },
    {
      "cell_type": "code",
      "source": [
        "tuple=('venkat', 'B.Tech' ,2006)\n",
        "print(tuple)\n",
        "print(tuple[0])\n",
        "print(tuple[0:2])\n",
        "print(tuple[0:])\n",
        "print(tuple[:: -1])"
      ],
      "metadata": {
        "colab": {
          "base_uri": "https://localhost:8080/"
        },
        "id": "VeEFzjdvmnW6",
        "outputId": "09de68db-ac7a-442e-bb4f-03d136f4a0d0"
      },
      "execution_count": 27,
      "outputs": [
        {
          "output_type": "stream",
          "name": "stdout",
          "text": [
            "('venkat', 'B.Tech', 2006)\n",
            "venkat\n",
            "('venkat', 'B.Tech')\n",
            "('venkat', 'B.Tech', 2006)\n",
            "(2006, 'B.Tech', 'venkat')\n"
          ]
        }
      ]
    },
    {
      "cell_type": "code",
      "source": [
        "tuple=('venkat', 'B.Tech' ,2006)\n",
        "pgtuple=('M.E','2011')\n",
        "print(tuple*2)\n",
        "print(tuple + pgtuple)\n",
        "List=['venkat', 'Ph.D' ,2018]\n",
        "print(List)\n",
        "List[0]='Ramana'\n",
        "print(List)"
      ],
      "metadata": {
        "colab": {
          "base_uri": "https://localhost:8080/"
        },
        "id": "_tGhOWDNvm3J",
        "outputId": "a3e88880-35f8-47f5-cdaa-ba1099ec31ce"
      },
      "execution_count": 34,
      "outputs": [
        {
          "output_type": "stream",
          "name": "stdout",
          "text": [
            "('venkat', 'B.Tech', 2006, 'venkat', 'B.Tech', 2006)\n",
            "('venkat', 'B.Tech', 2006, 'M.E', '2011')\n",
            "['venkat', 'Ph.D', 2018]\n",
            "['Ramana', 'Ph.D', 2018]\n"
          ]
        }
      ]
    },
    {
      "cell_type": "code",
      "source": [
        "tiny={ 'Name' : 'Venkat', 'Marks' :891}\n",
        "print(tiny)\n",
        "print (tiny[ 'Name'])\n",
        "print (tiny[ 'Marks'])\n",
        "tiny[ 'Name' ]='ramana'\n",
        "print(tiny)\n"
      ],
      "metadata": {
        "colab": {
          "base_uri": "https://localhost:8080/"
        },
        "id": "P9xvl45juSjR",
        "outputId": "c06689fa-d363-416f-f863-a3f6a53dcc13"
      },
      "execution_count": 28,
      "outputs": [
        {
          "output_type": "stream",
          "name": "stdout",
          "text": [
            "{'Name': 'Venkat', 'Marks': 891}\n",
            "Venkat\n",
            "891\n",
            "{'Name': 'ramana', 'Marks': 891}\n"
          ]
        }
      ]
    },
    {
      "cell_type": "code",
      "source": [
        "dict={}\n",
        "print(dict)\n",
        "dict['one']='This is one'\n",
        "print(dict)\n",
        "dict['2']='This is two'\n",
        "print(dict)\n",
        "print(dict.keys())\n",
        "print(dict.values())\n",
        "\n"
      ],
      "metadata": {
        "colab": {
          "base_uri": "https://localhost:8080/"
        },
        "id": "z6pQjXkou41o",
        "outputId": "cb246d93-51e6-4884-b930-e4a3d208eb9c"
      },
      "execution_count": 30,
      "outputs": [
        {
          "output_type": "stream",
          "name": "stdout",
          "text": [
            "{}\n",
            "{'one': 'This is one'}\n",
            "{'one': 'This is one', '2': 'This is two'}\n",
            "dict_keys(['one', '2'])\n",
            "dict_values(['This is one', 'This is two'])\n"
          ]
        }
      ]
    },
    {
      "cell_type": "code",
      "source": [
        "thisset = {\"apple\" , \"banana\", \"cherry\"}\n",
        "mylist = [\"kiwi\", \"orange\"]\n",
        "mylist_2=(2,3)\n",
        "mylist_3={\"Name\": \"Venkat\", \"School\" : \"SRU\"}\n",
        "thisset.update(mylist)\n",
        "thisset.update(mylist_2)\n",
        "thisset.update(mylist_3)\n",
        "print(thisset)\n",
        "\n"
      ],
      "metadata": {
        "colab": {
          "base_uri": "https://localhost:8080/"
        },
        "id": "K6_kNYi5xQRI",
        "outputId": "92554ffb-9d47-493e-a9d4-b6bd52b40115"
      },
      "execution_count": 35,
      "outputs": [
        {
          "output_type": "stream",
          "name": "stdout",
          "text": [
            "{2, 3, 'apple', 'Name', 'cherry', 'orange', 'kiwi', 'School', 'banana'}\n"
          ]
        }
      ]
    },
    {
      "cell_type": "code",
      "source": [
        "thisset = {\"apple\", \"banana\", \"cherry\"}\n",
        "tropical = {\"pineapple\", \"mango\", \"papaya\"}\n",
        "thisset.update(tropical)\n",
        "print(thisset)"
      ],
      "metadata": {
        "colab": {
          "base_uri": "https://localhost:8080/"
        },
        "id": "D6VFCziDyU6x",
        "outputId": "5f1348c0-3839-452e-8152-84e522383644"
      },
      "execution_count": 36,
      "outputs": [
        {
          "output_type": "stream",
          "name": "stdout",
          "text": [
            "{'pineapple', 'apple', 'mango', 'cherry', 'banana', 'papaya'}\n"
          ]
        }
      ]
    },
    {
      "cell_type": "code",
      "source": [
        "thisset = {\"apple\", \"banana\", \"cherry\"}\n",
        "for x in thisset:\n",
        "  print (x)\n"
      ],
      "metadata": {
        "colab": {
          "base_uri": "https://localhost:8080/"
        },
        "id": "uAeo3O8hyY8o",
        "outputId": "9e50c7d8-4cb3-4e34-8038-2931a11b7c0e"
      },
      "execution_count": 37,
      "outputs": [
        {
          "output_type": "stream",
          "name": "stdout",
          "text": [
            "cherry\n",
            "banana\n",
            "apple\n"
          ]
        }
      ]
    }
  ]
}